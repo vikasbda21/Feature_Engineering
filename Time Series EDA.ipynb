{
 "cells": [
  {
   "cell_type": "markdown",
   "id": "268a13b8",
   "metadata": {},
   "source": [
    "### Stock Analysis With Time series Data"
   ]
  },
  {
   "cell_type": "code",
   "execution_count": 33,
   "id": "3bbb0a1f",
   "metadata": {},
   "outputs": [
    {
     "name": "stdout",
     "output_type": "stream",
     "text": [
      "Requirement already satisfied: pandas-datareader in c:\\programdata\\anaconda3\\lib\\site-packages (0.10.0)\n",
      "Requirement already satisfied: pandas>=0.23 in c:\\programdata\\anaconda3\\lib\\site-packages (from pandas-datareader) (1.2.4)\n",
      "Requirement already satisfied: requests>=2.19.0 in c:\\programdata\\anaconda3\\lib\\site-packages (from pandas-datareader) (2.25.1)\n",
      "Requirement already satisfied: lxml in c:\\programdata\\anaconda3\\lib\\site-packages (from pandas-datareader) (4.6.3)\n",
      "Requirement already satisfied: numpy>=1.16.5 in c:\\programdata\\anaconda3\\lib\\site-packages (from pandas>=0.23->pandas-datareader) (1.20.1)\n",
      "Requirement already satisfied: python-dateutil>=2.7.3 in c:\\programdata\\anaconda3\\lib\\site-packages (from pandas>=0.23->pandas-datareader) (2.8.1)\n",
      "Requirement already satisfied: pytz>=2017.3 in c:\\programdata\\anaconda3\\lib\\site-packages (from pandas>=0.23->pandas-datareader) (2021.1)\n",
      "Requirement already satisfied: six>=1.5 in c:\\programdata\\anaconda3\\lib\\site-packages (from python-dateutil>=2.7.3->pandas>=0.23->pandas-datareader) (1.15.0)\n",
      "Requirement already satisfied: urllib3<1.27,>=1.21.1 in c:\\programdata\\anaconda3\\lib\\site-packages (from requests>=2.19.0->pandas-datareader) (1.26.4)\n",
      "Requirement already satisfied: certifi>=2017.4.17 in c:\\programdata\\anaconda3\\lib\\site-packages (from requests>=2.19.0->pandas-datareader) (2020.12.5)\n",
      "Requirement already satisfied: idna<3,>=2.5 in c:\\programdata\\anaconda3\\lib\\site-packages (from requests>=2.19.0->pandas-datareader) (2.10)\n",
      "Requirement already satisfied: chardet<5,>=3.0.2 in c:\\programdata\\anaconda3\\lib\\site-packages (from requests>=2.19.0->pandas-datareader) (4.0.0)\n"
     ]
    }
   ],
   "source": [
    "## install pandas pandas data Reader\n",
    "!pip install pandas-datareader"
   ]
  },
  {
   "cell_type": "code",
   "execution_count": 34,
   "id": "faea6f8c",
   "metadata": {},
   "outputs": [],
   "source": [
    "import pandas_datareader as pdr\n",
    "import pandas as pd\n",
    "from datetime import datetime"
   ]
  },
  {
   "cell_type": "code",
   "execution_count": 35,
   "id": "649b3db1",
   "metadata": {},
   "outputs": [
    {
     "data": {
      "text/html": [
       "<div>\n",
       "<style scoped>\n",
       "    .dataframe tbody tr th:only-of-type {\n",
       "        vertical-align: middle;\n",
       "    }\n",
       "\n",
       "    .dataframe tbody tr th {\n",
       "        vertical-align: top;\n",
       "    }\n",
       "\n",
       "    .dataframe thead th {\n",
       "        text-align: right;\n",
       "    }\n",
       "</style>\n",
       "<table border=\"1\" class=\"dataframe\">\n",
       "  <thead>\n",
       "    <tr style=\"text-align: right;\">\n",
       "      <th></th>\n",
       "      <th>High</th>\n",
       "      <th>Low</th>\n",
       "      <th>Open</th>\n",
       "      <th>Close</th>\n",
       "      <th>Volume</th>\n",
       "      <th>Adj Close</th>\n",
       "    </tr>\n",
       "    <tr>\n",
       "      <th>Date</th>\n",
       "      <th></th>\n",
       "      <th></th>\n",
       "      <th></th>\n",
       "      <th></th>\n",
       "      <th></th>\n",
       "      <th></th>\n",
       "    </tr>\n",
       "  </thead>\n",
       "  <tbody>\n",
       "    <tr>\n",
       "      <th>2022-02-23</th>\n",
       "      <td>835.299988</td>\n",
       "      <td>760.559998</td>\n",
       "      <td>830.429993</td>\n",
       "      <td>764.039978</td>\n",
       "      <td>31752300.0</td>\n",
       "      <td>764.039978</td>\n",
       "    </tr>\n",
       "    <tr>\n",
       "      <th>2022-02-24</th>\n",
       "      <td>802.479980</td>\n",
       "      <td>700.000000</td>\n",
       "      <td>700.390015</td>\n",
       "      <td>800.770020</td>\n",
       "      <td>45107400.0</td>\n",
       "      <td>800.770020</td>\n",
       "    </tr>\n",
       "    <tr>\n",
       "      <th>2022-02-25</th>\n",
       "      <td>819.500000</td>\n",
       "      <td>782.400024</td>\n",
       "      <td>809.229980</td>\n",
       "      <td>809.869995</td>\n",
       "      <td>25355900.0</td>\n",
       "      <td>809.869995</td>\n",
       "    </tr>\n",
       "    <tr>\n",
       "      <th>2022-02-28</th>\n",
       "      <td>876.859985</td>\n",
       "      <td>814.710022</td>\n",
       "      <td>815.010010</td>\n",
       "      <td>870.429993</td>\n",
       "      <td>33002300.0</td>\n",
       "      <td>870.429993</td>\n",
       "    </tr>\n",
       "    <tr>\n",
       "      <th>2022-03-01</th>\n",
       "      <td>889.880005</td>\n",
       "      <td>853.780029</td>\n",
       "      <td>869.679993</td>\n",
       "      <td>864.369995</td>\n",
       "      <td>24840000.0</td>\n",
       "      <td>864.369995</td>\n",
       "    </tr>\n",
       "  </tbody>\n",
       "</table>\n",
       "</div>"
      ],
      "text/plain": [
       "                  High         Low        Open       Close      Volume  \\\n",
       "Date                                                                     \n",
       "2022-02-23  835.299988  760.559998  830.429993  764.039978  31752300.0   \n",
       "2022-02-24  802.479980  700.000000  700.390015  800.770020  45107400.0   \n",
       "2022-02-25  819.500000  782.400024  809.229980  809.869995  25355900.0   \n",
       "2022-02-28  876.859985  814.710022  815.010010  870.429993  33002300.0   \n",
       "2022-03-01  889.880005  853.780029  869.679993  864.369995  24840000.0   \n",
       "\n",
       "             Adj Close  \n",
       "Date                    \n",
       "2022-02-23  764.039978  \n",
       "2022-02-24  800.770020  \n",
       "2022-02-25  809.869995  \n",
       "2022-02-28  870.429993  \n",
       "2022-03-01  864.369995  "
      ]
     },
     "execution_count": 35,
     "metadata": {},
     "output_type": "execute_result"
    }
   ],
   "source": [
    "df_tesla=pdr.get_data_yahoo('TSLA')\n",
    "df_tesla.tail()"
   ]
  },
  {
   "cell_type": "code",
   "execution_count": 36,
   "id": "b8f34a89",
   "metadata": {},
   "outputs": [
    {
     "data": {
      "text/plain": [
       "<AxesSubplot:xlabel='Date'>"
      ]
     },
     "execution_count": 36,
     "metadata": {},
     "output_type": "execute_result"
    },
    {
     "data": {
      "image/png": "[encoded data removed]",
      "text/plain": [
       "<Figure size 864x288 with 1 Axes>"
      ]
     },
     "metadata": {
      "needs_background": "light"
     },
     "output_type": "display_data"
    }
   ],
   "source": [
    "df_tesla['High'].plot(figsize=(12,4))"
   ]
  },
  {
   "cell_type": "code",
   "execution_count": 37,
   "id": "b8dc6f77",
   "metadata": {},
   "outputs": [
    {
     "data": {
      "text/plain": [
       "<AxesSubplot:xlabel='Date'>"
      ]
     },
     "execution_count": 37,
     "metadata": {},
     "output_type": "execute_result"
    },
    {
     "data": {
      "image/png": "[encoded data removed]",
      "text/plain": [
       "<Figure size 864x288 with 1 Axes>"
      ]
     },
     "metadata": {
      "needs_background": "light"
     },
     "output_type": "display_data"
    }
   ],
   "source": [
    "## X limit & y limit\n",
    "df_tesla['High'].plot(xlim=['2020-01-01','2021-09-01'],figsize=(12,4))"
   ]
  },
  {
   "cell_type": "code",
   "execution_count": 38,
   "id": "5578a00c",
   "metadata": {},
   "outputs": [
    {
     "data": {
      "text/plain": [
       "<AxesSubplot:xlabel='Date'>"
      ]
     },
     "execution_count": 38,
     "metadata": {},
     "output_type": "execute_result"
    },
    {
     "data": {
      "image/png": "[encoded data removed]",
      "text/plain": [
       "<Figure size 864x288 with 1 Axes>"
      ]
     },
     "metadata": {
      "needs_background": "light"
     },
     "output_type": "display_data"
    }
   ],
   "source": [
    "## ## X limit & y limit\n",
    "df_tesla['High'].plot(xlim=['2020-01-01','2021-09-01'],ylim=[0,900],figsize=(12,4))"
   ]
  },
  {
   "cell_type": "code",
   "execution_count": 39,
   "id": "239832bf",
   "metadata": {},
   "outputs": [
    {
     "data": {
      "text/plain": [
       "<AxesSubplot:xlabel='Date'>"
      ]
     },
     "execution_count": 39,
     "metadata": {},
     "output_type": "execute_result"
    },
    {
     "data": {
      "image/png": "[encoded data removed]",
      "text/plain": [
       "<Figure size 864x288 with 1 Axes>"
      ]
     },
     "metadata": {
      "needs_background": "light"
     },
     "output_type": "display_data"
    }
   ],
   "source": [
    " ## ## X limit, y limit & coloring\n",
    "df_tesla['High'].plot(xlim=['2020-01-01','2021-09-01'],ylim=[0,900],figsize=(12,4),color='green')"
   ]
  },
  {
   "cell_type": "code",
   "execution_count": 40,
   "id": "7c9af1fb",
   "metadata": {},
   "outputs": [
    {
     "data": {
      "text/plain": [
       "<AxesSubplot:xlabel='Date'>"
      ]
     },
     "execution_count": 40,
     "metadata": {},
     "output_type": "execute_result"
    },
    {
     "data": {
      "image/png": "[encoded data removed]",
      "text/plain": [
       "<Figure size 864x288 with 1 Axes>"
      ]
     },
     "metadata": {
      "needs_background": "light"
     },
     "output_type": "display_data"
    }
   ],
   "source": [
    "## ## X limit & y limit\n",
    "df_tesla['High'].plot(xlim=['2020-01-01','2021-09-01'],ylim=[0,900],figsize=(12,4),ls='--')"
   ]
  },
  {
   "cell_type": "code",
   "execution_count": 41,
   "id": "449b4ac1",
   "metadata": {},
   "outputs": [
    {
     "data": {
      "text/plain": [
       "DatetimeIndex(['2017-03-02', '2017-03-03', '2017-03-06', '2017-03-07',\n",
       "               '2017-03-08', '2017-03-09', '2017-03-10', '2017-03-13',\n",
       "               '2017-03-14', '2017-03-15',\n",
       "               ...\n",
       "               '2022-02-15', '2022-02-16', '2022-02-17', '2022-02-18',\n",
       "               '2022-02-22', '2022-02-23', '2022-02-24', '2022-02-25',\n",
       "               '2022-02-28', '2022-03-01'],\n",
       "              dtype='datetime64[ns]', name='Date', length=1259, freq=None)"
      ]
     },
     "execution_count": 41,
     "metadata": {},
     "output_type": "execute_result"
    }
   ],
   "source": [
    "## \n",
    "df_tesla.index"
   ]
  },
  {
   "cell_type": "code",
   "execution_count": 42,
   "id": "281a69bc",
   "metadata": {},
   "outputs": [],
   "source": [
    "#df_tesla['2020-01-01':'2021-09-01']\n",
    "index=df_tesla['2020-01-01':'2021-09-01'].index ##if i want to specifically print index\n",
    "share_open=df_tesla['2020-01-01':'2021-09-01']['Open']"
   ]
  },
  {
   "cell_type": "code",
   "execution_count": 43,
   "id": "672d3280",
   "metadata": {},
   "outputs": [
    {
     "data": {
      "text/plain": [
       "Date\n",
       "2020-01-02     84.900002\n",
       "2020-01-03     88.099998\n",
       "2020-01-06     88.094002\n",
       "2020-01-07     92.279999\n",
       "2020-01-08     94.739998\n",
       "                 ...    \n",
       "2021-08-26    708.309998\n",
       "2021-08-27    705.000000\n",
       "2021-08-30    714.719971\n",
       "2021-08-31    733.000000\n",
       "2021-09-01    734.080017\n",
       "Name: Open, Length: 421, dtype: float64"
      ]
     },
     "execution_count": 43,
     "metadata": {},
     "output_type": "execute_result"
    }
   ],
   "source": [
    "share_open"
   ]
  },
  {
   "cell_type": "code",
   "execution_count": 44,
   "id": "5adb2dd4",
   "metadata": {},
   "outputs": [],
   "source": [
    "import matplotlib.pyplot as plt\n",
    "%matplotlib inline"
   ]
  },
  {
   "cell_type": "code",
   "execution_count": 45,
   "id": "db543368",
   "metadata": {},
   "outputs": [
    {
     "data": {
      "text/plain": [
       "[<matplotlib.lines.Line2D at 0x1dbeecae0d0>]"
      ]
     },
     "execution_count": 45,
     "metadata": {},
     "output_type": "execute_result"
    },
    {
     "data": {
      "image/png": "[encoded data removed]",
      "text/plain": [
       "<Figure size 432x288 with 1 Axes>"
      ]
     },
     "metadata": {
      "needs_background": "light"
     },
     "output_type": "display_data"
    }
   ],
   "source": [
    "figure,axis=plt.subplots()\n",
    "plt.tight_layout()\n",
    "figure.autofmt_xdate()  ##Preventing overlapping\n",
    "axis.plot(index,share_open)"
   ]
  },
  {
   "cell_type": "markdown",
   "id": "33aaf184",
   "metadata": {},
   "source": [
    "## datetime index"
   ]
  },
  {
   "cell_type": "code",
   "execution_count": 46,
   "id": "d3606ac0",
   "metadata": {},
   "outputs": [],
   "source": [
    "## First reset the index\n",
    "df_tesla=df_tesla.reset_index()"
   ]
  },
  {
   "cell_type": "code",
   "execution_count": 47,
   "id": "6e95e4e6",
   "metadata": {},
   "outputs": [
    {
     "name": "stdout",
     "output_type": "stream",
     "text": [
      "<class 'pandas.core.frame.DataFrame'>\n",
      "RangeIndex: 1259 entries, 0 to 1258\n",
      "Data columns (total 7 columns):\n",
      " #   Column     Non-Null Count  Dtype         \n",
      "---  ------     --------------  -----         \n",
      " 0   Date       1259 non-null   datetime64[ns]\n",
      " 1   High       1259 non-null   float64       \n",
      " 2   Low        1259 non-null   float64       \n",
      " 3   Open       1259 non-null   float64       \n",
      " 4   Close      1259 non-null   float64       \n",
      " 5   Volume     1259 non-null   float64       \n",
      " 6   Adj Close  1259 non-null   float64       \n",
      "dtypes: datetime64[ns](1), float64(6)\n",
      "memory usage: 69.0 KB\n"
     ]
    }
   ],
   "source": [
    "df_tesla.info()"
   ]
  },
  {
   "cell_type": "code",
   "execution_count": null,
   "id": "07533229",
   "metadata": {},
   "outputs": [],
   "source": []
  },
  {
   "cell_type": "code",
   "execution_count": null,
   "id": "c88e4fc2",
   "metadata": {},
   "outputs": [],
   "source": []
  },
  {
   "cell_type": "markdown",
   "id": "281fd27b",
   "metadata": {},
   "source": [
    "## Time Resampling"
   ]
  },
  {
   "cell_type": "code",
   "execution_count": 48,
   "id": "3e21e7f2",
   "metadata": {},
   "outputs": [],
   "source": [
    "df_tesla=df_tesla.set_index('Date',drop=True)"
   ]
  },
  {
   "cell_type": "code",
   "execution_count": 49,
   "id": "ed57f1f0",
   "metadata": {},
   "outputs": [
    {
     "data": {
      "text/html": [
       "<div>\n",
       "<style scoped>\n",
       "    .dataframe tbody tr th:only-of-type {\n",
       "        vertical-align: middle;\n",
       "    }\n",
       "\n",
       "    .dataframe tbody tr th {\n",
       "        vertical-align: top;\n",
       "    }\n",
       "\n",
       "    .dataframe thead th {\n",
       "        text-align: right;\n",
       "    }\n",
       "</style>\n",
       "<table border=\"1\" class=\"dataframe\">\n",
       "  <thead>\n",
       "    <tr style=\"text-align: right;\">\n",
       "      <th></th>\n",
       "      <th>High</th>\n",
       "      <th>Low</th>\n",
       "      <th>Open</th>\n",
       "      <th>Close</th>\n",
       "      <th>Volume</th>\n",
       "      <th>Adj Close</th>\n",
       "    </tr>\n",
       "    <tr>\n",
       "      <th>Date</th>\n",
       "      <th></th>\n",
       "      <th></th>\n",
       "      <th></th>\n",
       "      <th></th>\n",
       "      <th></th>\n",
       "      <th></th>\n",
       "    </tr>\n",
       "  </thead>\n",
       "  <tbody>\n",
       "    <tr>\n",
       "      <th>2017-03-02</th>\n",
       "      <td>50.655998</td>\n",
       "      <td>49.653999</td>\n",
       "      <td>49.942001</td>\n",
       "      <td>50.096001</td>\n",
       "      <td>16759000.0</td>\n",
       "      <td>50.096001</td>\n",
       "    </tr>\n",
       "    <tr>\n",
       "      <th>2017-03-03</th>\n",
       "      <td>50.380001</td>\n",
       "      <td>49.799999</td>\n",
       "      <td>50.147999</td>\n",
       "      <td>50.313999</td>\n",
       "      <td>14597000.0</td>\n",
       "      <td>50.313999</td>\n",
       "    </tr>\n",
       "    <tr>\n",
       "      <th>2017-03-06</th>\n",
       "      <td>50.340000</td>\n",
       "      <td>49.501999</td>\n",
       "      <td>49.582001</td>\n",
       "      <td>50.242001</td>\n",
       "      <td>16777500.0</td>\n",
       "      <td>50.242001</td>\n",
       "    </tr>\n",
       "    <tr>\n",
       "      <th>2017-03-07</th>\n",
       "      <td>50.778000</td>\n",
       "      <td>49.664001</td>\n",
       "      <td>50.383999</td>\n",
       "      <td>49.717999</td>\n",
       "      <td>17297500.0</td>\n",
       "      <td>49.717999</td>\n",
       "    </tr>\n",
       "    <tr>\n",
       "      <th>2017-03-08</th>\n",
       "      <td>50.014000</td>\n",
       "      <td>49.063999</td>\n",
       "      <td>49.400002</td>\n",
       "      <td>49.374001</td>\n",
       "      <td>18626000.0</td>\n",
       "      <td>49.374001</td>\n",
       "    </tr>\n",
       "    <tr>\n",
       "      <th>...</th>\n",
       "      <td>...</td>\n",
       "      <td>...</td>\n",
       "      <td>...</td>\n",
       "      <td>...</td>\n",
       "      <td>...</td>\n",
       "      <td>...</td>\n",
       "    </tr>\n",
       "    <tr>\n",
       "      <th>2022-02-23</th>\n",
       "      <td>835.299988</td>\n",
       "      <td>760.559998</td>\n",
       "      <td>830.429993</td>\n",
       "      <td>764.039978</td>\n",
       "      <td>31752300.0</td>\n",
       "      <td>764.039978</td>\n",
       "    </tr>\n",
       "    <tr>\n",
       "      <th>2022-02-24</th>\n",
       "      <td>802.479980</td>\n",
       "      <td>700.000000</td>\n",
       "      <td>700.390015</td>\n",
       "      <td>800.770020</td>\n",
       "      <td>45107400.0</td>\n",
       "      <td>800.770020</td>\n",
       "    </tr>\n",
       "    <tr>\n",
       "      <th>2022-02-25</th>\n",
       "      <td>819.500000</td>\n",
       "      <td>782.400024</td>\n",
       "      <td>809.229980</td>\n",
       "      <td>809.869995</td>\n",
       "      <td>25355900.0</td>\n",
       "      <td>809.869995</td>\n",
       "    </tr>\n",
       "    <tr>\n",
       "      <th>2022-02-28</th>\n",
       "      <td>876.859985</td>\n",
       "      <td>814.710022</td>\n",
       "      <td>815.010010</td>\n",
       "      <td>870.429993</td>\n",
       "      <td>33002300.0</td>\n",
       "      <td>870.429993</td>\n",
       "    </tr>\n",
       "    <tr>\n",
       "      <th>2022-03-01</th>\n",
       "      <td>889.880005</td>\n",
       "      <td>853.780029</td>\n",
       "      <td>869.679993</td>\n",
       "      <td>864.369995</td>\n",
       "      <td>24840000.0</td>\n",
       "      <td>864.369995</td>\n",
       "    </tr>\n",
       "  </tbody>\n",
       "</table>\n",
       "<p>1259 rows × 6 columns</p>\n",
       "</div>"
      ],
      "text/plain": [
       "                  High         Low        Open       Close      Volume  \\\n",
       "Date                                                                     \n",
       "2017-03-02   50.655998   49.653999   49.942001   50.096001  16759000.0   \n",
       "2017-03-03   50.380001   49.799999   50.147999   50.313999  14597000.0   \n",
       "2017-03-06   50.340000   49.501999   49.582001   50.242001  16777500.0   \n",
       "2017-03-07   50.778000   49.664001   50.383999   49.717999  17297500.0   \n",
       "2017-03-08   50.014000   49.063999   49.400002   49.374001  18626000.0   \n",
       "...                ...         ...         ...         ...         ...   \n",
       "2022-02-23  835.299988  760.559998  830.429993  764.039978  31752300.0   \n",
       "2022-02-24  802.479980  700.000000  700.390015  800.770020  45107400.0   \n",
       "2022-02-25  819.500000  782.400024  809.229980  809.869995  25355900.0   \n",
       "2022-02-28  876.859985  814.710022  815.010010  870.429993  33002300.0   \n",
       "2022-03-01  889.880005  853.780029  869.679993  864.369995  24840000.0   \n",
       "\n",
       "             Adj Close  \n",
       "Date                    \n",
       "2017-03-02   50.096001  \n",
       "2017-03-03   50.313999  \n",
       "2017-03-06   50.242001  \n",
       "2017-03-07   49.717999  \n",
       "2017-03-08   49.374001  \n",
       "...                ...  \n",
       "2022-02-23  764.039978  \n",
       "2022-02-24  800.770020  \n",
       "2022-02-25  809.869995  \n",
       "2022-02-28  870.429993  \n",
       "2022-03-01  864.369995  \n",
       "\n",
       "[1259 rows x 6 columns]"
      ]
     },
     "execution_count": 49,
     "metadata": {},
     "output_type": "execute_result"
    }
   ],
   "source": [
    "df_tesla"
   ]
  },
  {
   "cell_type": "code",
   "execution_count": 50,
   "id": "01599a58",
   "metadata": {},
   "outputs": [
    {
     "data": {
      "text/html": [
       "<div>\n",
       "<style scoped>\n",
       "    .dataframe tbody tr th:only-of-type {\n",
       "        vertical-align: middle;\n",
       "    }\n",
       "\n",
       "    .dataframe tbody tr th {\n",
       "        vertical-align: top;\n",
       "    }\n",
       "\n",
       "    .dataframe thead th {\n",
       "        text-align: right;\n",
       "    }\n",
       "</style>\n",
       "<table border=\"1\" class=\"dataframe\">\n",
       "  <thead>\n",
       "    <tr style=\"text-align: right;\">\n",
       "      <th></th>\n",
       "      <th>High</th>\n",
       "      <th>Low</th>\n",
       "      <th>Open</th>\n",
       "      <th>Close</th>\n",
       "      <th>Volume</th>\n",
       "      <th>Adj Close</th>\n",
       "    </tr>\n",
       "    <tr>\n",
       "      <th>Date</th>\n",
       "      <th></th>\n",
       "      <th></th>\n",
       "      <th></th>\n",
       "      <th></th>\n",
       "      <th></th>\n",
       "      <th></th>\n",
       "    </tr>\n",
       "  </thead>\n",
       "  <tbody>\n",
       "    <tr>\n",
       "      <th>2017-12-31</th>\n",
       "      <td>49.299999</td>\n",
       "      <td>48.556000</td>\n",
       "      <td>48.964001</td>\n",
       "      <td>48.737999</td>\n",
       "      <td>14597000.0</td>\n",
       "      <td>48.737999</td>\n",
       "    </tr>\n",
       "    <tr>\n",
       "      <th>2018-12-31</th>\n",
       "      <td>52.066002</td>\n",
       "      <td>48.917999</td>\n",
       "      <td>50.556000</td>\n",
       "      <td>50.112000</td>\n",
       "      <td>15403500.0</td>\n",
       "      <td>50.112000</td>\n",
       "    </tr>\n",
       "    <tr>\n",
       "      <th>2019-12-31</th>\n",
       "      <td>37.335999</td>\n",
       "      <td>35.397999</td>\n",
       "      <td>36.220001</td>\n",
       "      <td>35.793999</td>\n",
       "      <td>12328000.0</td>\n",
       "      <td>35.793999</td>\n",
       "    </tr>\n",
       "    <tr>\n",
       "      <th>2020-12-31</th>\n",
       "      <td>80.972000</td>\n",
       "      <td>70.101997</td>\n",
       "      <td>74.940002</td>\n",
       "      <td>72.244003</td>\n",
       "      <td>17357700.0</td>\n",
       "      <td>72.244003</td>\n",
       "    </tr>\n",
       "    <tr>\n",
       "      <th>2021-12-31</th>\n",
       "      <td>566.210022</td>\n",
       "      <td>539.489990</td>\n",
       "      <td>552.549988</td>\n",
       "      <td>563.000000</td>\n",
       "      <td>9800600.0</td>\n",
       "      <td>563.000000</td>\n",
       "    </tr>\n",
       "    <tr>\n",
       "      <th>2022-12-31</th>\n",
       "      <td>802.479980</td>\n",
       "      <td>700.000000</td>\n",
       "      <td>700.390015</td>\n",
       "      <td>764.039978</td>\n",
       "      <td>16909700.0</td>\n",
       "      <td>764.039978</td>\n",
       "    </tr>\n",
       "  </tbody>\n",
       "</table>\n",
       "</div>"
      ],
      "text/plain": [
       "                  High         Low        Open       Close      Volume  \\\n",
       "Date                                                                     \n",
       "2017-12-31   49.299999   48.556000   48.964001   48.737999  14597000.0   \n",
       "2018-12-31   52.066002   48.917999   50.556000   50.112000  15403500.0   \n",
       "2019-12-31   37.335999   35.397999   36.220001   35.793999  12328000.0   \n",
       "2020-12-31   80.972000   70.101997   74.940002   72.244003  17357700.0   \n",
       "2021-12-31  566.210022  539.489990  552.549988  563.000000   9800600.0   \n",
       "2022-12-31  802.479980  700.000000  700.390015  764.039978  16909700.0   \n",
       "\n",
       "             Adj Close  \n",
       "Date                    \n",
       "2017-12-31   48.737999  \n",
       "2018-12-31   50.112000  \n",
       "2019-12-31   35.793999  \n",
       "2020-12-31   72.244003  \n",
       "2021-12-31  563.000000  \n",
       "2022-12-31  764.039978  "
      ]
     },
     "execution_count": 50,
     "metadata": {},
     "output_type": "execute_result"
    }
   ],
   "source": [
    "df_tesla.resample(rule='A').min()  # miniman data through end of year & frequency(rule='A')"
   ]
  },
  {
   "cell_type": "code",
   "execution_count": 51,
   "id": "6e8ec643",
   "metadata": {},
   "outputs": [
    {
     "data": {
      "text/html": [
       "<div>\n",
       "<style scoped>\n",
       "    .dataframe tbody tr th:only-of-type {\n",
       "        vertical-align: middle;\n",
       "    }\n",
       "\n",
       "    .dataframe tbody tr th {\n",
       "        vertical-align: top;\n",
       "    }\n",
       "\n",
       "    .dataframe thead th {\n",
       "        text-align: right;\n",
       "    }\n",
       "</style>\n",
       "<table border=\"1\" class=\"dataframe\">\n",
       "  <thead>\n",
       "    <tr style=\"text-align: right;\">\n",
       "      <th></th>\n",
       "      <th>High</th>\n",
       "      <th>Low</th>\n",
       "      <th>Open</th>\n",
       "      <th>Close</th>\n",
       "      <th>Volume</th>\n",
       "      <th>Adj Close</th>\n",
       "    </tr>\n",
       "    <tr>\n",
       "      <th>Date</th>\n",
       "      <th></th>\n",
       "      <th></th>\n",
       "      <th></th>\n",
       "      <th></th>\n",
       "      <th></th>\n",
       "      <th></th>\n",
       "    </tr>\n",
       "  </thead>\n",
       "  <tbody>\n",
       "    <tr>\n",
       "      <th>2017-12-31</th>\n",
       "      <td>77.921997</td>\n",
       "      <td>75.870003</td>\n",
       "      <td>77.337997</td>\n",
       "      <td>77.000000</td>\n",
       "      <td>98957000.0</td>\n",
       "      <td>77.000000</td>\n",
       "    </tr>\n",
       "    <tr>\n",
       "      <th>2018-12-31</th>\n",
       "      <td>77.491997</td>\n",
       "      <td>73.424004</td>\n",
       "      <td>75.000000</td>\n",
       "      <td>75.914001</td>\n",
       "      <td>168248500.0</td>\n",
       "      <td>75.914001</td>\n",
       "    </tr>\n",
       "    <tr>\n",
       "      <th>2019-12-31</th>\n",
       "      <td>87.061996</td>\n",
       "      <td>85.269997</td>\n",
       "      <td>87.000000</td>\n",
       "      <td>86.188004</td>\n",
       "      <td>150030500.0</td>\n",
       "      <td>86.188004</td>\n",
       "    </tr>\n",
       "    <tr>\n",
       "      <th>2020-12-31</th>\n",
       "      <td>718.719971</td>\n",
       "      <td>691.119995</td>\n",
       "      <td>699.989990</td>\n",
       "      <td>705.669983</td>\n",
       "      <td>304694000.0</td>\n",
       "      <td>705.669983</td>\n",
       "    </tr>\n",
       "    <tr>\n",
       "      <th>2021-12-31</th>\n",
       "      <td>1243.489990</td>\n",
       "      <td>1217.000000</td>\n",
       "      <td>1234.410034</td>\n",
       "      <td>1229.910034</td>\n",
       "      <td>89396500.0</td>\n",
       "      <td>1229.910034</td>\n",
       "    </tr>\n",
       "    <tr>\n",
       "      <th>2022-12-31</th>\n",
       "      <td>1208.000000</td>\n",
       "      <td>1136.040039</td>\n",
       "      <td>1189.550049</td>\n",
       "      <td>1199.780029</td>\n",
       "      <td>50521900.0</td>\n",
       "      <td>1199.780029</td>\n",
       "    </tr>\n",
       "  </tbody>\n",
       "</table>\n",
       "</div>"
      ],
      "text/plain": [
       "                   High          Low         Open        Close       Volume  \\\n",
       "Date                                                                          \n",
       "2017-12-31    77.921997    75.870003    77.337997    77.000000   98957000.0   \n",
       "2018-12-31    77.491997    73.424004    75.000000    75.914001  168248500.0   \n",
       "2019-12-31    87.061996    85.269997    87.000000    86.188004  150030500.0   \n",
       "2020-12-31   718.719971   691.119995   699.989990   705.669983  304694000.0   \n",
       "2021-12-31  1243.489990  1217.000000  1234.410034  1229.910034   89396500.0   \n",
       "2022-12-31  1208.000000  1136.040039  1189.550049  1199.780029   50521900.0   \n",
       "\n",
       "              Adj Close  \n",
       "Date                     \n",
       "2017-12-31    77.000000  \n",
       "2018-12-31    75.914001  \n",
       "2019-12-31    86.188004  \n",
       "2020-12-31   705.669983  \n",
       "2021-12-31  1229.910034  \n",
       "2022-12-31  1199.780029  "
      ]
     },
     "execution_count": 51,
     "metadata": {},
     "output_type": "execute_result"
    }
   ],
   "source": [
    "## for max\n",
    "df_tesla.resample(rule='A').max()"
   ]
  },
  {
   "cell_type": "code",
   "execution_count": 52,
   "id": "91c6cd9d",
   "metadata": {},
   "outputs": [
    {
     "data": {
      "text/plain": [
       "<AxesSubplot:xlabel='Date'>"
      ]
     },
     "execution_count": 52,
     "metadata": {},
     "output_type": "execute_result"
    },
    {
     "data": {
      "image/png": "[encoded data removed]",
      "text/plain": [
       "<Figure size 432x288 with 1 Axes>"
      ]
     },
     "metadata": {
      "needs_background": "light"
     },
     "output_type": "display_data"
    }
   ],
   "source": [
    "df_tesla.resample(rule='A').max()['Open'].plot()"
   ]
  },
  {
   "cell_type": "code",
   "execution_count": 53,
   "id": "68d31efa",
   "metadata": {},
   "outputs": [
    {
     "data": {
      "text/plain": [
       "<AxesSubplot:xlabel='Date'>"
      ]
     },
     "execution_count": 53,
     "metadata": {},
     "output_type": "execute_result"
    },
    {
     "data": {
      "image/png": "[encoded data removed]",
      "text/plain": [
       "<Figure size 432x288 with 1 Axes>"
      ]
     },
     "metadata": {
      "needs_background": "light"
     },
     "output_type": "display_data"
    }
   ],
   "source": [
    "## Quaterly data record\n",
    "df_tesla.resample(rule='QS').max()['High'].plot()"
   ]
  },
  {
   "cell_type": "code",
   "execution_count": 54,
   "id": "54e44671",
   "metadata": {},
   "outputs": [
    {
     "data": {
      "text/html": [
       "<div>\n",
       "<style scoped>\n",
       "    .dataframe tbody tr th:only-of-type {\n",
       "        vertical-align: middle;\n",
       "    }\n",
       "\n",
       "    .dataframe tbody tr th {\n",
       "        vertical-align: top;\n",
       "    }\n",
       "\n",
       "    .dataframe thead th {\n",
       "        text-align: right;\n",
       "    }\n",
       "</style>\n",
       "<table border=\"1\" class=\"dataframe\">\n",
       "  <thead>\n",
       "    <tr style=\"text-align: right;\">\n",
       "      <th></th>\n",
       "      <th>High</th>\n",
       "      <th>Low</th>\n",
       "      <th>Open</th>\n",
       "      <th>Close</th>\n",
       "      <th>Volume</th>\n",
       "      <th>Adj Close</th>\n",
       "    </tr>\n",
       "    <tr>\n",
       "      <th>Date</th>\n",
       "      <th></th>\n",
       "      <th></th>\n",
       "      <th></th>\n",
       "      <th></th>\n",
       "      <th></th>\n",
       "      <th></th>\n",
       "    </tr>\n",
       "  </thead>\n",
       "  <tbody>\n",
       "    <tr>\n",
       "      <th>2017-12-29</th>\n",
       "      <td>77.921997</td>\n",
       "      <td>75.870003</td>\n",
       "      <td>77.337997</td>\n",
       "      <td>77.000000</td>\n",
       "      <td>98957000.0</td>\n",
       "      <td>77.000000</td>\n",
       "    </tr>\n",
       "    <tr>\n",
       "      <th>2018-12-31</th>\n",
       "      <td>77.491997</td>\n",
       "      <td>73.424004</td>\n",
       "      <td>75.000000</td>\n",
       "      <td>75.914001</td>\n",
       "      <td>168248500.0</td>\n",
       "      <td>75.914001</td>\n",
       "    </tr>\n",
       "    <tr>\n",
       "      <th>2019-12-31</th>\n",
       "      <td>87.061996</td>\n",
       "      <td>85.269997</td>\n",
       "      <td>87.000000</td>\n",
       "      <td>86.188004</td>\n",
       "      <td>150030500.0</td>\n",
       "      <td>86.188004</td>\n",
       "    </tr>\n",
       "    <tr>\n",
       "      <th>2020-12-31</th>\n",
       "      <td>718.719971</td>\n",
       "      <td>691.119995</td>\n",
       "      <td>699.989990</td>\n",
       "      <td>705.669983</td>\n",
       "      <td>304694000.0</td>\n",
       "      <td>705.669983</td>\n",
       "    </tr>\n",
       "    <tr>\n",
       "      <th>2021-12-31</th>\n",
       "      <td>1243.489990</td>\n",
       "      <td>1217.000000</td>\n",
       "      <td>1234.410034</td>\n",
       "      <td>1229.910034</td>\n",
       "      <td>89396500.0</td>\n",
       "      <td>1229.910034</td>\n",
       "    </tr>\n",
       "    <tr>\n",
       "      <th>2022-12-30</th>\n",
       "      <td>1208.000000</td>\n",
       "      <td>1136.040039</td>\n",
       "      <td>1189.550049</td>\n",
       "      <td>1199.780029</td>\n",
       "      <td>50521900.0</td>\n",
       "      <td>1199.780029</td>\n",
       "    </tr>\n",
       "  </tbody>\n",
       "</table>\n",
       "</div>"
      ],
      "text/plain": [
       "                   High          Low         Open        Close       Volume  \\\n",
       "Date                                                                          \n",
       "2017-12-29    77.921997    75.870003    77.337997    77.000000   98957000.0   \n",
       "2018-12-31    77.491997    73.424004    75.000000    75.914001  168248500.0   \n",
       "2019-12-31    87.061996    85.269997    87.000000    86.188004  150030500.0   \n",
       "2020-12-31   718.719971   691.119995   699.989990   705.669983  304694000.0   \n",
       "2021-12-31  1243.489990  1217.000000  1234.410034  1229.910034   89396500.0   \n",
       "2022-12-30  1208.000000  1136.040039  1189.550049  1199.780029   50521900.0   \n",
       "\n",
       "              Adj Close  \n",
       "Date                     \n",
       "2017-12-29    77.000000  \n",
       "2018-12-31    75.914001  \n",
       "2019-12-31    86.188004  \n",
       "2020-12-31   705.669983  \n",
       "2021-12-31  1229.910034  \n",
       "2022-12-30  1199.780029  "
      ]
     },
     "execution_count": 54,
     "metadata": {},
     "output_type": "execute_result"
    }
   ],
   "source": [
    "## Business & Frequency\n",
    "df_tesla.resample(rule='BA').max()"
   ]
  },
  {
   "cell_type": "code",
   "execution_count": 55,
   "id": "de05a130",
   "metadata": {},
   "outputs": [
    {
     "data": {
      "text/plain": [
       "<AxesSubplot:xlabel='Date'>"
      ]
     },
     "execution_count": 55,
     "metadata": {},
     "output_type": "execute_result"
    },
    {
     "data": {
      "image/png": "[encoded data removed]",
      "text/plain": [
       "<Figure size 432x288 with 1 Axes>"
      ]
     },
     "metadata": {
      "needs_background": "light"
     },
     "output_type": "display_data"
    }
   ],
   "source": [
    "df_tesla.resample(rule='BA').max()['High'].plot()"
   ]
  },
  {
   "cell_type": "code",
   "execution_count": 56,
   "id": "05445478",
   "metadata": {},
   "outputs": [
    {
     "data": {
      "text/plain": [
       "<AxesSubplot:xlabel='Date'>"
      ]
     },
     "execution_count": 56,
     "metadata": {},
     "output_type": "execute_result"
    },
    {
     "data": {
      "image/png": "[encoded data removed]",
      "text/plain": [
       "<Figure size 432x288 with 1 Axes>"
      ]
     },
     "metadata": {
      "needs_background": "light"
     },
     "output_type": "display_data"
    }
   ],
   "source": [
    "## Quaterly\n",
    "df_tesla.resample(rule='BQS').max()['High'].plot()"
   ]
  },
  {
   "cell_type": "code",
   "execution_count": 57,
   "id": "328784e1",
   "metadata": {},
   "outputs": [
    {
     "data": {
      "text/plain": [
       "<AxesSubplot:xlabel='Date'>"
      ]
     },
     "execution_count": 57,
     "metadata": {},
     "output_type": "execute_result"
    },
    {
     "data": {
      "image/png": "[encoded data removed]",
      "text/plain": [
       "<Figure size 432x288 with 1 Axes>"
      ]
     },
     "metadata": {
      "needs_background": "light"
     },
     "output_type": "display_data"
    }
   ],
   "source": [
    "## plotting\n",
    "df_tesla['Open'].resample(rule='BA').mean().plot(kind='bar')"
   ]
  },
  {
   "cell_type": "code",
   "execution_count": 58,
   "id": "2cfb8cd3",
   "metadata": {},
   "outputs": [
    {
     "data": {
      "text/plain": [
       "<AxesSubplot:xlabel='Date'>"
      ]
     },
     "execution_count": 58,
     "metadata": {},
     "output_type": "execute_result"
    },
    {
     "data": {
      "image/png": "[encoded data removed]",
      "text/plain": [
       "<Figure size 1080x432 with 1 Axes>"
      ]
     },
     "metadata": {
      "needs_background": "light"
     },
     "output_type": "display_data"
    }
   ],
   "source": [
    "df_tesla['Open'].resample(rule='M').mean().plot(kind='bar',figsize=(15,6))"
   ]
  },
  {
   "cell_type": "code",
   "execution_count": 59,
   "id": "effcfe0e",
   "metadata": {},
   "outputs": [
    {
     "data": {
      "text/plain": [
       "Date\n",
       "2017-03-02     50.655998\n",
       "2017-03-03     50.380001\n",
       "2017-03-06     50.340000\n",
       "2017-03-07     50.778000\n",
       "2017-03-08     50.014000\n",
       "                 ...    \n",
       "2022-02-23    835.299988\n",
       "2022-02-24    802.479980\n",
       "2022-02-25    819.500000\n",
       "2022-02-28    876.859985\n",
       "2022-03-01    889.880005\n",
       "Name: High, Length: 1259, dtype: float64"
      ]
     },
     "execution_count": 59,
     "metadata": {},
     "output_type": "execute_result"
    }
   ],
   "source": [
    "df_tesla['High']"
   ]
  },
  {
   "cell_type": "code",
   "execution_count": 61,
   "id": "f9205105",
   "metadata": {},
   "outputs": [
    {
     "data": {
      "text/plain": [
       "Date\n",
       "2017-03-02           NaN\n",
       "2017-03-03           NaN\n",
       "2017-03-06           NaN\n",
       "2017-03-07           NaN\n",
       "2017-03-08           NaN\n",
       "                 ...    \n",
       "2022-02-23    905.175000\n",
       "2022-02-24    890.795996\n",
       "2022-02-25    878.364996\n",
       "2022-02-28    874.454993\n",
       "2022-03-01    873.554993\n",
       "Name: High, Length: 1259, dtype: float64"
      ]
     },
     "execution_count": 61,
     "metadata": {},
     "output_type": "execute_result"
    }
   ],
   "source": [
    "df_tesla['High'].rolling(10).mean()"
   ]
  },
  {
   "cell_type": "code",
   "execution_count": 62,
   "id": "82f7089d",
   "metadata": {},
   "outputs": [
    {
     "data": {
      "text/html": [
       "<div>\n",
       "<style scoped>\n",
       "    .dataframe tbody tr th:only-of-type {\n",
       "        vertical-align: middle;\n",
       "    }\n",
       "\n",
       "    .dataframe tbody tr th {\n",
       "        vertical-align: top;\n",
       "    }\n",
       "\n",
       "    .dataframe thead th {\n",
       "        text-align: right;\n",
       "    }\n",
       "</style>\n",
       "<table border=\"1\" class=\"dataframe\">\n",
       "  <thead>\n",
       "    <tr style=\"text-align: right;\">\n",
       "      <th></th>\n",
       "      <th>High</th>\n",
       "      <th>Low</th>\n",
       "      <th>Open</th>\n",
       "      <th>Close</th>\n",
       "      <th>Volume</th>\n",
       "      <th>Adj Close</th>\n",
       "    </tr>\n",
       "    <tr>\n",
       "      <th>Date</th>\n",
       "      <th></th>\n",
       "      <th></th>\n",
       "      <th></th>\n",
       "      <th></th>\n",
       "      <th></th>\n",
       "      <th></th>\n",
       "    </tr>\n",
       "  </thead>\n",
       "  <tbody>\n",
       "    <tr>\n",
       "      <th>2017-03-02</th>\n",
       "      <td>50.655998</td>\n",
       "      <td>49.653999</td>\n",
       "      <td>49.942001</td>\n",
       "      <td>50.096001</td>\n",
       "      <td>16759000.0</td>\n",
       "      <td>50.096001</td>\n",
       "    </tr>\n",
       "    <tr>\n",
       "      <th>2017-03-03</th>\n",
       "      <td>50.380001</td>\n",
       "      <td>49.799999</td>\n",
       "      <td>50.147999</td>\n",
       "      <td>50.313999</td>\n",
       "      <td>14597000.0</td>\n",
       "      <td>50.313999</td>\n",
       "    </tr>\n",
       "    <tr>\n",
       "      <th>2017-03-06</th>\n",
       "      <td>50.340000</td>\n",
       "      <td>49.501999</td>\n",
       "      <td>49.582001</td>\n",
       "      <td>50.242001</td>\n",
       "      <td>16777500.0</td>\n",
       "      <td>50.242001</td>\n",
       "    </tr>\n",
       "    <tr>\n",
       "      <th>2017-03-07</th>\n",
       "      <td>50.778000</td>\n",
       "      <td>49.664001</td>\n",
       "      <td>50.383999</td>\n",
       "      <td>49.717999</td>\n",
       "      <td>17297500.0</td>\n",
       "      <td>49.717999</td>\n",
       "    </tr>\n",
       "    <tr>\n",
       "      <th>2017-03-08</th>\n",
       "      <td>50.014000</td>\n",
       "      <td>49.063999</td>\n",
       "      <td>49.400002</td>\n",
       "      <td>49.374001</td>\n",
       "      <td>18626000.0</td>\n",
       "      <td>49.374001</td>\n",
       "    </tr>\n",
       "  </tbody>\n",
       "</table>\n",
       "</div>"
      ],
      "text/plain": [
       "                 High        Low       Open      Close      Volume  Adj Close\n",
       "Date                                                                         \n",
       "2017-03-02  50.655998  49.653999  49.942001  50.096001  16759000.0  50.096001\n",
       "2017-03-03  50.380001  49.799999  50.147999  50.313999  14597000.0  50.313999\n",
       "2017-03-06  50.340000  49.501999  49.582001  50.242001  16777500.0  50.242001\n",
       "2017-03-07  50.778000  49.664001  50.383999  49.717999  17297500.0  49.717999\n",
       "2017-03-08  50.014000  49.063999  49.400002  49.374001  18626000.0  49.374001"
      ]
     },
     "execution_count": 62,
     "metadata": {},
     "output_type": "execute_result"
    }
   ],
   "source": [
    "df_tesla.head()"
   ]
  },
  {
   "cell_type": "code",
   "execution_count": 67,
   "id": "17ccc64d",
   "metadata": {},
   "outputs": [
    {
     "data": {
      "text/plain": [
       "Date\n",
       "2017-03-02        NaN\n",
       "2017-03-03        NaN\n",
       "2017-03-06        NaN\n",
       "2017-03-07        NaN\n",
       "2017-03-08        NaN\n",
       "2017-03-09        NaN\n",
       "2017-03-10        NaN\n",
       "2017-03-13        NaN\n",
       "2017-03-14        NaN\n",
       "2017-03-15    50.4394\n",
       "Name: High, dtype: float64"
      ]
     },
     "execution_count": 67,
     "metadata": {},
     "output_type": "execute_result"
    }
   ],
   "source": [
    "df_tesla['High'].rolling(10).mean().head(10)"
   ]
  },
  {
   "cell_type": "code",
   "execution_count": 68,
   "id": "219cb31c",
   "metadata": {},
   "outputs": [],
   "source": [
    "df_tesla['Open: 30 days Rolling']=df_tesla['Open'].rolling(30).mean()"
   ]
  },
  {
   "cell_type": "code",
   "execution_count": 70,
   "id": "464398f9",
   "metadata": {},
   "outputs": [
    {
     "data": {
      "text/html": [
       "<div>\n",
       "<style scoped>\n",
       "    .dataframe tbody tr th:only-of-type {\n",
       "        vertical-align: middle;\n",
       "    }\n",
       "\n",
       "    .dataframe tbody tr th {\n",
       "        vertical-align: top;\n",
       "    }\n",
       "\n",
       "    .dataframe thead th {\n",
       "        text-align: right;\n",
       "    }\n",
       "</style>\n",
       "<table border=\"1\" class=\"dataframe\">\n",
       "  <thead>\n",
       "    <tr style=\"text-align: right;\">\n",
       "      <th></th>\n",
       "      <th>High</th>\n",
       "      <th>Low</th>\n",
       "      <th>Open</th>\n",
       "      <th>Close</th>\n",
       "      <th>Volume</th>\n",
       "      <th>Adj Close</th>\n",
       "      <th>Open: 30 days Rolling</th>\n",
       "    </tr>\n",
       "    <tr>\n",
       "      <th>Date</th>\n",
       "      <th></th>\n",
       "      <th></th>\n",
       "      <th></th>\n",
       "      <th></th>\n",
       "      <th></th>\n",
       "      <th></th>\n",
       "      <th></th>\n",
       "    </tr>\n",
       "  </thead>\n",
       "  <tbody>\n",
       "    <tr>\n",
       "      <th>2017-03-02</th>\n",
       "      <td>50.655998</td>\n",
       "      <td>49.653999</td>\n",
       "      <td>49.942001</td>\n",
       "      <td>50.096001</td>\n",
       "      <td>16759000.0</td>\n",
       "      <td>50.096001</td>\n",
       "      <td>NaN</td>\n",
       "    </tr>\n",
       "    <tr>\n",
       "      <th>2017-03-03</th>\n",
       "      <td>50.380001</td>\n",
       "      <td>49.799999</td>\n",
       "      <td>50.147999</td>\n",
       "      <td>50.313999</td>\n",
       "      <td>14597000.0</td>\n",
       "      <td>50.313999</td>\n",
       "      <td>NaN</td>\n",
       "    </tr>\n",
       "    <tr>\n",
       "      <th>2017-03-06</th>\n",
       "      <td>50.340000</td>\n",
       "      <td>49.501999</td>\n",
       "      <td>49.582001</td>\n",
       "      <td>50.242001</td>\n",
       "      <td>16777500.0</td>\n",
       "      <td>50.242001</td>\n",
       "      <td>NaN</td>\n",
       "    </tr>\n",
       "    <tr>\n",
       "      <th>2017-03-07</th>\n",
       "      <td>50.778000</td>\n",
       "      <td>49.664001</td>\n",
       "      <td>50.383999</td>\n",
       "      <td>49.717999</td>\n",
       "      <td>17297500.0</td>\n",
       "      <td>49.717999</td>\n",
       "      <td>NaN</td>\n",
       "    </tr>\n",
       "    <tr>\n",
       "      <th>2017-03-08</th>\n",
       "      <td>50.014000</td>\n",
       "      <td>49.063999</td>\n",
       "      <td>49.400002</td>\n",
       "      <td>49.374001</td>\n",
       "      <td>18626000.0</td>\n",
       "      <td>49.374001</td>\n",
       "      <td>NaN</td>\n",
       "    </tr>\n",
       "    <tr>\n",
       "      <th>2017-03-09</th>\n",
       "      <td>49.731998</td>\n",
       "      <td>48.599998</td>\n",
       "      <td>49.526001</td>\n",
       "      <td>48.980000</td>\n",
       "      <td>19396500.0</td>\n",
       "      <td>48.980000</td>\n",
       "      <td>NaN</td>\n",
       "    </tr>\n",
       "    <tr>\n",
       "      <th>2017-03-10</th>\n",
       "      <td>49.299999</td>\n",
       "      <td>48.599998</td>\n",
       "      <td>49.242001</td>\n",
       "      <td>48.737999</td>\n",
       "      <td>15331500.0</td>\n",
       "      <td>48.737999</td>\n",
       "      <td>NaN</td>\n",
       "    </tr>\n",
       "    <tr>\n",
       "      <th>2017-03-13</th>\n",
       "      <td>49.369999</td>\n",
       "      <td>48.556000</td>\n",
       "      <td>48.964001</td>\n",
       "      <td>49.234001</td>\n",
       "      <td>15113000.0</td>\n",
       "      <td>49.234001</td>\n",
       "      <td>NaN</td>\n",
       "    </tr>\n",
       "    <tr>\n",
       "      <th>2017-03-14</th>\n",
       "      <td>51.624001</td>\n",
       "      <td>49.203999</td>\n",
       "      <td>49.222000</td>\n",
       "      <td>51.599998</td>\n",
       "      <td>37992000.0</td>\n",
       "      <td>51.599998</td>\n",
       "      <td>NaN</td>\n",
       "    </tr>\n",
       "    <tr>\n",
       "      <th>2017-03-15</th>\n",
       "      <td>52.200001</td>\n",
       "      <td>50.854000</td>\n",
       "      <td>51.400002</td>\n",
       "      <td>51.146000</td>\n",
       "      <td>26654000.0</td>\n",
       "      <td>51.146000</td>\n",
       "      <td>NaN</td>\n",
       "    </tr>\n",
       "    <tr>\n",
       "      <th>2017-03-16</th>\n",
       "      <td>53.150002</td>\n",
       "      <td>51.812000</td>\n",
       "      <td>52.480000</td>\n",
       "      <td>52.410000</td>\n",
       "      <td>35661000.0</td>\n",
       "      <td>52.410000</td>\n",
       "      <td>NaN</td>\n",
       "    </tr>\n",
       "    <tr>\n",
       "      <th>2017-03-17</th>\n",
       "      <td>53.066002</td>\n",
       "      <td>52.240002</td>\n",
       "      <td>52.799999</td>\n",
       "      <td>52.299999</td>\n",
       "      <td>32487500.0</td>\n",
       "      <td>52.299999</td>\n",
       "      <td>NaN</td>\n",
       "    </tr>\n",
       "    <tr>\n",
       "      <th>2017-03-20</th>\n",
       "      <td>52.910000</td>\n",
       "      <td>51.764000</td>\n",
       "      <td>52.119999</td>\n",
       "      <td>52.383999</td>\n",
       "      <td>18071500.0</td>\n",
       "      <td>52.383999</td>\n",
       "      <td>NaN</td>\n",
       "    </tr>\n",
       "    <tr>\n",
       "      <th>2017-03-21</th>\n",
       "      <td>52.959999</td>\n",
       "      <td>50.048000</td>\n",
       "      <td>52.566002</td>\n",
       "      <td>50.136002</td>\n",
       "      <td>34543000.0</td>\n",
       "      <td>50.136002</td>\n",
       "      <td>NaN</td>\n",
       "    </tr>\n",
       "    <tr>\n",
       "      <th>2017-03-22</th>\n",
       "      <td>51.014000</td>\n",
       "      <td>50.102001</td>\n",
       "      <td>50.312000</td>\n",
       "      <td>51.001999</td>\n",
       "      <td>20296500.0</td>\n",
       "      <td>51.001999</td>\n",
       "      <td>NaN</td>\n",
       "    </tr>\n",
       "    <tr>\n",
       "      <th>2017-03-23</th>\n",
       "      <td>51.534000</td>\n",
       "      <td>50.660000</td>\n",
       "      <td>51.077999</td>\n",
       "      <td>50.956001</td>\n",
       "      <td>16601000.0</td>\n",
       "      <td>50.956001</td>\n",
       "      <td>NaN</td>\n",
       "    </tr>\n",
       "    <tr>\n",
       "      <th>2017-03-24</th>\n",
       "      <td>52.778000</td>\n",
       "      <td>51.001999</td>\n",
       "      <td>51.139999</td>\n",
       "      <td>52.632000</td>\n",
       "      <td>28236500.0</td>\n",
       "      <td>52.632000</td>\n",
       "      <td>NaN</td>\n",
       "    </tr>\n",
       "    <tr>\n",
       "      <th>2017-03-27</th>\n",
       "      <td>54.113998</td>\n",
       "      <td>51.950001</td>\n",
       "      <td>52.119999</td>\n",
       "      <td>54.043999</td>\n",
       "      <td>31154000.0</td>\n",
       "      <td>54.043999</td>\n",
       "      <td>NaN</td>\n",
       "    </tr>\n",
       "    <tr>\n",
       "      <th>2017-03-28</th>\n",
       "      <td>56.136002</td>\n",
       "      <td>55.000000</td>\n",
       "      <td>55.403999</td>\n",
       "      <td>55.490002</td>\n",
       "      <td>39938000.0</td>\n",
       "      <td>55.490002</td>\n",
       "      <td>NaN</td>\n",
       "    </tr>\n",
       "    <tr>\n",
       "      <th>2017-03-29</th>\n",
       "      <td>55.919998</td>\n",
       "      <td>55.108002</td>\n",
       "      <td>55.667999</td>\n",
       "      <td>55.476002</td>\n",
       "      <td>18381000.0</td>\n",
       "      <td>55.476002</td>\n",
       "      <td>NaN</td>\n",
       "    </tr>\n",
       "    <tr>\n",
       "      <th>2017-03-30</th>\n",
       "      <td>56.400002</td>\n",
       "      <td>55.442001</td>\n",
       "      <td>55.608002</td>\n",
       "      <td>55.584000</td>\n",
       "      <td>20742000.0</td>\n",
       "      <td>55.584000</td>\n",
       "      <td>NaN</td>\n",
       "    </tr>\n",
       "    <tr>\n",
       "      <th>2017-03-31</th>\n",
       "      <td>55.936001</td>\n",
       "      <td>55.264000</td>\n",
       "      <td>55.745998</td>\n",
       "      <td>55.660000</td>\n",
       "      <td>16473000.0</td>\n",
       "      <td>55.660000</td>\n",
       "      <td>NaN</td>\n",
       "    </tr>\n",
       "    <tr>\n",
       "      <th>2017-04-03</th>\n",
       "      <td>59.799999</td>\n",
       "      <td>56.916000</td>\n",
       "      <td>57.380001</td>\n",
       "      <td>59.703999</td>\n",
       "      <td>69443000.0</td>\n",
       "      <td>59.703999</td>\n",
       "      <td>NaN</td>\n",
       "    </tr>\n",
       "    <tr>\n",
       "      <th>2017-04-04</th>\n",
       "      <td>60.962002</td>\n",
       "      <td>58.905998</td>\n",
       "      <td>59.377998</td>\n",
       "      <td>60.740002</td>\n",
       "      <td>50673000.0</td>\n",
       "      <td>60.740002</td>\n",
       "      <td>NaN</td>\n",
       "    </tr>\n",
       "    <tr>\n",
       "      <th>2017-04-05</th>\n",
       "      <td>60.976002</td>\n",
       "      <td>58.840000</td>\n",
       "      <td>60.408001</td>\n",
       "      <td>59.000000</td>\n",
       "      <td>39404500.0</td>\n",
       "      <td>59.000000</td>\n",
       "      <td>NaN</td>\n",
       "    </tr>\n",
       "    <tr>\n",
       "      <th>2017-04-06</th>\n",
       "      <td>60.388000</td>\n",
       "      <td>58.820000</td>\n",
       "      <td>59.375999</td>\n",
       "      <td>59.740002</td>\n",
       "      <td>27603000.0</td>\n",
       "      <td>59.740002</td>\n",
       "      <td>NaN</td>\n",
       "    </tr>\n",
       "    <tr>\n",
       "      <th>2017-04-07</th>\n",
       "      <td>60.537998</td>\n",
       "      <td>59.430000</td>\n",
       "      <td>59.500000</td>\n",
       "      <td>60.507999</td>\n",
       "      <td>22898000.0</td>\n",
       "      <td>60.507999</td>\n",
       "      <td>NaN</td>\n",
       "    </tr>\n",
       "    <tr>\n",
       "      <th>2017-04-10</th>\n",
       "      <td>62.745998</td>\n",
       "      <td>61.742001</td>\n",
       "      <td>61.830002</td>\n",
       "      <td>62.478001</td>\n",
       "      <td>38322500.0</td>\n",
       "      <td>62.478001</td>\n",
       "      <td>NaN</td>\n",
       "    </tr>\n",
       "    <tr>\n",
       "      <th>2017-04-11</th>\n",
       "      <td>62.694000</td>\n",
       "      <td>61.099998</td>\n",
       "      <td>62.675999</td>\n",
       "      <td>61.742001</td>\n",
       "      <td>28623000.0</td>\n",
       "      <td>61.742001</td>\n",
       "      <td>NaN</td>\n",
       "    </tr>\n",
       "    <tr>\n",
       "      <th>2017-04-12</th>\n",
       "      <td>61.689999</td>\n",
       "      <td>59.264000</td>\n",
       "      <td>61.268002</td>\n",
       "      <td>59.368000</td>\n",
       "      <td>30253500.0</td>\n",
       "      <td>59.368000</td>\n",
       "      <td>53.888933</td>\n",
       "    </tr>\n",
       "  </tbody>\n",
       "</table>\n",
       "</div>"
      ],
      "text/plain": [
       "                 High        Low       Open      Close      Volume  Adj Close  \\\n",
       "Date                                                                            \n",
       "2017-03-02  50.655998  49.653999  49.942001  50.096001  16759000.0  50.096001   \n",
       "2017-03-03  50.380001  49.799999  50.147999  50.313999  14597000.0  50.313999   \n",
       "2017-03-06  50.340000  49.501999  49.582001  50.242001  16777500.0  50.242001   \n",
       "2017-03-07  50.778000  49.664001  50.383999  49.717999  17297500.0  49.717999   \n",
       "2017-03-08  50.014000  49.063999  49.400002  49.374001  18626000.0  49.374001   \n",
       "2017-03-09  49.731998  48.599998  49.526001  48.980000  19396500.0  48.980000   \n",
       "2017-03-10  49.299999  48.599998  49.242001  48.737999  15331500.0  48.737999   \n",
       "2017-03-13  49.369999  48.556000  48.964001  49.234001  15113000.0  49.234001   \n",
       "2017-03-14  51.624001  49.203999  49.222000  51.599998  37992000.0  51.599998   \n",
       "2017-03-15  52.200001  50.854000  51.400002  51.146000  26654000.0  51.146000   \n",
       "2017-03-16  53.150002  51.812000  52.480000  52.410000  35661000.0  52.410000   \n",
       "2017-03-17  53.066002  52.240002  52.799999  52.299999  32487500.0  52.299999   \n",
       "2017-03-20  52.910000  51.764000  52.119999  52.383999  18071500.0  52.383999   \n",
       "2017-03-21  52.959999  50.048000  52.566002  50.136002  34543000.0  50.136002   \n",
       "2017-03-22  51.014000  50.102001  50.312000  51.001999  20296500.0  51.001999   \n",
       "2017-03-23  51.534000  50.660000  51.077999  50.956001  16601000.0  50.956001   \n",
       "2017-03-24  52.778000  51.001999  51.139999  52.632000  28236500.0  52.632000   \n",
       "2017-03-27  54.113998  51.950001  52.119999  54.043999  31154000.0  54.043999   \n",
       "2017-03-28  56.136002  55.000000  55.403999  55.490002  39938000.0  55.490002   \n",
       "2017-03-29  55.919998  55.108002  55.667999  55.476002  18381000.0  55.476002   \n",
       "2017-03-30  56.400002  55.442001  55.608002  55.584000  20742000.0  55.584000   \n",
       "2017-03-31  55.936001  55.264000  55.745998  55.660000  16473000.0  55.660000   \n",
       "2017-04-03  59.799999  56.916000  57.380001  59.703999  69443000.0  59.703999   \n",
       "2017-04-04  60.962002  58.905998  59.377998  60.740002  50673000.0  60.740002   \n",
       "2017-04-05  60.976002  58.840000  60.408001  59.000000  39404500.0  59.000000   \n",
       "2017-04-06  60.388000  58.820000  59.375999  59.740002  27603000.0  59.740002   \n",
       "2017-04-07  60.537998  59.430000  59.500000  60.507999  22898000.0  60.507999   \n",
       "2017-04-10  62.745998  61.742001  61.830002  62.478001  38322500.0  62.478001   \n",
       "2017-04-11  62.694000  61.099998  62.675999  61.742001  28623000.0  61.742001   \n",
       "2017-04-12  61.689999  59.264000  61.268002  59.368000  30253500.0  59.368000   \n",
       "\n",
       "            Open: 30 days Rolling  \n",
       "Date                               \n",
       "2017-03-02                    NaN  \n",
       "2017-03-03                    NaN  \n",
       "2017-03-06                    NaN  \n",
       "2017-03-07                    NaN  \n",
       "2017-03-08                    NaN  \n",
       "2017-03-09                    NaN  \n",
       "2017-03-10                    NaN  \n",
       "2017-03-13                    NaN  \n",
       "2017-03-14                    NaN  \n",
       "2017-03-15                    NaN  \n",
       "2017-03-16                    NaN  \n",
       "2017-03-17                    NaN  \n",
       "2017-03-20                    NaN  \n",
       "2017-03-21                    NaN  \n",
       "2017-03-22                    NaN  \n",
       "2017-03-23                    NaN  \n",
       "2017-03-24                    NaN  \n",
       "2017-03-27                    NaN  \n",
       "2017-03-28                    NaN  \n",
       "2017-03-29                    NaN  \n",
       "2017-03-30                    NaN  \n",
       "2017-03-31                    NaN  \n",
       "2017-04-03                    NaN  \n",
       "2017-04-04                    NaN  \n",
       "2017-04-05                    NaN  \n",
       "2017-04-06                    NaN  \n",
       "2017-04-07                    NaN  \n",
       "2017-04-10                    NaN  \n",
       "2017-04-11                    NaN  \n",
       "2017-04-12              53.888933  "
      ]
     },
     "execution_count": 70,
     "metadata": {},
     "output_type": "execute_result"
    }
   ],
   "source": [
    "df_tesla.head(30)"
   ]
  },
  {
   "cell_type": "code",
   "execution_count": 72,
   "id": "03964c09",
   "metadata": {},
   "outputs": [
    {
     "data": {
      "text/plain": [
       "<AxesSubplot:xlabel='Date'>"
      ]
     },
     "execution_count": 72,
     "metadata": {},
     "output_type": "execute_result"
    },
    {
     "data": {
      "image/png": "[encoded data removed]",
      "text/plain": [
       "<Figure size 864x288 with 1 Axes>"
      ]
     },
     "metadata": {
      "needs_background": "light"
     },
     "output_type": "display_data"
    }
   ],
   "source": [
    "df_tesla[['Open','Open: 30 days Rolling']].plot(figsize=(12,4))"
   ]
  },
  {
   "cell_type": "code",
   "execution_count": null,
   "id": "8a917a6f",
   "metadata": {},
   "outputs": [],
   "source": []
  },
  {
   "cell_type": "markdown",
   "id": "a1974a0a",
   "metadata": {},
   "source": [
    "1. Read the Microsoft Data using Pandas Data reader\n",
    "2. Get the maximum price of the share from 2017 to 2022\n",
    "3. Which is the date of the highest price of the stock?\n",
    "4. Which is the date of the lowest price of the stock?"
   ]
  },
  {
   "cell_type": "code",
   "execution_count": null,
   "id": "d5554b25",
   "metadata": {},
   "outputs": [],
   "source": []
  }
 ],
 "metadata": {
  "kernelspec": {
   "display_name": "Python 3",
   "language": "python",
   "name": "python3"
  },
  "language_info": {
   "codemirror_mode": {
    "name": "ipython",
    "version": 3
   },
   "file_extension": ".py",
   "mimetype": "text/x-python",
   "name": "python",
   "nbconvert_exporter": "python",
   "pygments_lexer": "ipython3",
   "version": "3.8.8"
  }
 },
 "nbformat": 4,
 "nbformat_minor": 5
}
